{
 "cells": [
  {
   "cell_type": "code",
   "execution_count": 1,
   "metadata": {},
   "outputs": [],
   "source": [
    "from tkinter import *\n",
    "from PIL import Image, ImageTk\n",
    "from tkinter import filedialog\n",
    "import customtkinter as ctk\n",
    "\n",
    "import pandas as pd\n",
    "import numpy as np\n",
    "import openpyxl\n",
    "from datetime import datetime\n",
    "\n",
    "import requests\n",
    "import json"
   ]
  },
  {
   "cell_type": "code",
   "execution_count": 3,
   "metadata": {},
   "outputs": [],
   "source": [
    "ctk.set_appearance_mode(\"dark\")\n",
    "ctk.set_default_color_theme(\"dark-blue\")\n",
    "\n",
    "root = ctk.CTk()\n",
    "root.title(\"Cadastro de clientes\")\n",
    "root.geometry(\"900x600\")\n",
    "root.resizable(False, False)\n",
    "\n",
    "\n",
    "cabecalho = ctk.CTkLabel(root, pady=15, text=\"SISTEMA DE CADASTRO DE CLIENTES\", width=200, height=25, font=('arial bold', 26))\n",
    "cabecalho.pack()\n",
    "\n",
    "frame = ctk.CTkFrame(root, width=650, height=600)\n",
    "frame.pack(side=RIGHT)\n",
    "\n",
    "sub_titulo = ctk.CTkLabel(frame, text=\"CLIENTES\", font=(\"roboto\", 18))\n",
    "sub_titulo.place(x=250, y=10)\n",
    "\n",
    "root.mainloop()"
   ]
  }
 ],
 "metadata": {
  "kernelspec": {
   "display_name": "Python 3",
   "language": "python",
   "name": "python3"
  },
  "language_info": {
   "codemirror_mode": {
    "name": "ipython",
    "version": 3
   },
   "file_extension": ".py",
   "mimetype": "text/x-python",
   "name": "python",
   "nbconvert_exporter": "python",
   "pygments_lexer": "ipython3",
   "version": "3.12.4"
  }
 },
 "nbformat": 4,
 "nbformat_minor": 2
}
