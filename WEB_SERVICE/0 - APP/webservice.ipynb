{
 "cells": [
  {
   "cell_type": "code",
   "execution_count": 1,
   "metadata": {},
   "outputs": [],
   "source": [
    "import requests\n",
    "import json\n",
    "import pandas as pd"
   ]
  },
  {
   "cell_type": "code",
   "execution_count": 2,
   "metadata": {},
   "outputs": [],
   "source": [
    "link = 'https://n703-webservice-default-rtdb.firebaseio.com/'"
   ]
  },
  {
   "cell_type": "markdown",
   "metadata": {},
   "source": [
    "POST"
   ]
  },
  {
   "cell_type": "code",
   "execution_count": null,
   "metadata": {},
   "outputs": [],
   "source": [
    "nome = 'Gabrielle Paiva Onate'\n",
    "idade = '26'\n",
    "\n",
    "\n",
    "dados = {'Nome':nome, 'Idade':idade}\n",
    "\n",
    "criar = requests.post(f'{link}/Pessoas/.json', data=json.dumps(dados))\n",
    "\n",
    "print(criar)\n",
    "print(criar.text)"
   ]
  },
  {
   "cell_type": "markdown",
   "metadata": {},
   "source": [
    "PACTH / UPDATE"
   ]
  },
  {
   "cell_type": "code",
   "execution_count": null,
   "metadata": {},
   "outputs": [],
   "source": [
    "nome = 'Gabrielle Paiva Onate'\n",
    "idade = '26'\n",
    "\n",
    "id = '-OJk6_OHOaFzdnIfQrO3'\n",
    "\n",
    "dados = {'Nome':nome, 'Idade':idade}\n",
    "\n",
    "editar = requests.patch(f'{link}/Pessoas/{id}/.json', data=json.dumps(dados))\n",
    "\n",
    "print(editar)\n",
    "print(editar.text)"
   ]
  },
  {
   "cell_type": "markdown",
   "metadata": {},
   "source": [
    "GET"
   ]
  },
  {
   "cell_type": "code",
   "execution_count": null,
   "metadata": {},
   "outputs": [],
   "source": [
    "ler = requests.get(f'{link}/Pessoas/.json')\n",
    "print(ler)\n",
    "print(ler.json())\n",
    "\n",
    "dic = ler.json()\n",
    "\n",
    "base = pd.DataFrame.from_dict(dic, orient='index')\n",
    "\n",
    "base.reset_index(inplace=True)\n",
    "\n",
    "base.rename(columns={'index': 'CHAVE', 'Idade':'IDADE', 'Nome':'NOME'}, inplace=True)\n",
    "\n",
    "base = base[['CHAVE', 'NOME', 'IDADE']]\n",
    "\n",
    "'---------------------------------------------------------------------------------------------------'\n",
    "\n",
    "# pesquisa = 'Helena Barboza'\n",
    "# id_pesq = None\n",
    "\n",
    "# for id in dic:\n",
    "#     nome = dic[id]['Nome']\n",
    "#     idade = dic[id]['Idade']\n",
    "\n",
    "#     print(f'{id} - Nome: {nome}, Idade: {idade}')\n",
    "\n",
    "#     if nome == pesquisa:\n",
    "#         print('Resto do código')\n",
    "#         id_pesq = id\n",
    "#         break\n",
    "\n",
    "# print(id_pesq)"
   ]
  },
  {
   "cell_type": "markdown",
   "metadata": {},
   "source": [
    "DELETE"
   ]
  },
  {
   "cell_type": "code",
   "execution_count": null,
   "metadata": {},
   "outputs": [],
   "source": [
    "delete = requests.delete(f'{link}/Pessoas/{id_pesq}/.json')\n",
    "print(delete)\n",
    "print(delete.json())"
   ]
  }
 ],
 "metadata": {
  "kernelspec": {
   "display_name": "Python 3",
   "language": "python",
   "name": "python3"
  },
  "language_info": {
   "codemirror_mode": {
    "name": "ipython",
    "version": 3
   },
   "file_extension": ".py",
   "mimetype": "text/x-python",
   "name": "python",
   "nbconvert_exporter": "python",
   "pygments_lexer": "ipython3",
   "version": "3.12.4"
  }
 },
 "nbformat": 4,
 "nbformat_minor": 2
}
