{
 "cells": [
  {
   "cell_type": "code",
   "execution_count": 1,
   "metadata": {},
   "outputs": [],
   "source": [
    "from tkinter import *\n",
    "from PIL import Image, ImageTk\n",
    "from tkinter import filedialog\n",
    "import customtkinter as ctk\n",
    "\n",
    "import pandas as pd\n",
    "import numpy as np\n",
    "import openpyxl\n",
    "from datetime import datetime\n",
    "\n",
    "import requests\n",
    "import json"
   ]
  },
  {
   "cell_type": "code",
   "execution_count": 2,
   "metadata": {},
   "outputs": [],
   "source": [
    "link = 'https://n703-webservice-default-rtdb.firebaseio.com/'"
   ]
  },
  {
   "cell_type": "code",
   "execution_count": null,
   "metadata": {},
   "outputs": [],
   "source": [
    "ctk.set_appearance_mode(\"dark\")\n",
    "ctk.set_default_color_theme(\"dark-blue\")\n",
    "\n",
    "frame_update = ctk.CTkToplevel()\n",
    "frame_update.title(\"Pop_up_update\")\n",
    "frame_update.geometry(\"300x250\")\n",
    "frame_update.resizable(False, False)\n",
    "\n",
    "\n",
    "cabecalho = ctk.CTkLabel(frame_update, pady=15, text=\"ATENÇÃO\", width=200, height=25, font=('arial bold', 26))\n",
    "cabecalho.pack()\n",
    "\n",
    "texto = ctk.CTkLabel(frame_update, pady=40, text=\"Item editado com sucesso\", width=200, height=25, font=('arial bold', 18))\n",
    "texto.pack()\n",
    "\n",
    "btn_ok = ctk.CTkButton(frame_update, text='OK',command=lambda:[])\n",
    "btn_ok.place(x=80, y=175)\n",
    "\n",
    "frame_update.protocol(\"WM_update_WINDOW\", lambda: [fechar_janela(frame_update, root)])\n",
    "\n",
    "def fechar_janela(frame_update, root):\n",
    "    frame_update.destroy()\n",
    "    root.deiconify()  # Reexibe a janela principal\n",
    "\n",
    "\n",
    "frame_update.mainloop()"
   ]
  }
 ],
 "metadata": {
  "kernelspec": {
   "display_name": "Python 3",
   "language": "python",
   "name": "python3"
  },
  "language_info": {
   "codemirror_mode": {
    "name": "ipython",
    "version": 3
   },
   "file_extension": ".py",
   "mimetype": "text/x-python",
   "name": "python",
   "nbconvert_exporter": "python",
   "pygments_lexer": "ipython3",
   "version": "3.12.4"
  }
 },
 "nbformat": 4,
 "nbformat_minor": 2
}
